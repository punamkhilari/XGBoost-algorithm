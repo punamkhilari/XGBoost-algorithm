{
 "cells": [
  {
   "cell_type": "code",
   "execution_count": 1,
   "id": "bb751274",
   "metadata": {},
   "outputs": [],
   "source": [
    "import numpy as np\n",
    "import pandas as pd\n",
    "from sklearn.model_selection import train_test_split \n",
    "from sklearn.datasets import make_classification\n",
    "from sklearn.metrics import accuracy_score \n",
    "from sklearn.ensemble import GradientBoostingClassifier \n",
    "import xgboost as xgb \n",
    "import time "
   ]
  },
  {
   "cell_type": "code",
   "execution_count": 3,
   "id": "b335c1cd",
   "metadata": {},
   "outputs": [
    {
     "name": "stdout",
     "output_type": "stream",
     "text": [
      "53.79768180847168\n"
     ]
    },
    {
     "name": "stderr",
     "output_type": "stream",
     "text": [
      "C:\\Users\\Punam\\AppData\\Roaming\\Python\\Python313\\site-packages\\xgboost\\training.py:183: UserWarning: [18:53:40] WARNING: C:\\actions-runner\\_work\\xgboost\\xgboost\\src\\learner.cc:738: \n",
      "Parameters: { \"use_label_encoder\" } are not used.\n",
      "\n",
      "  bst.update(dtrain, iteration=i, fobj=obj)\n"
     ]
    },
    {
     "name": "stdout",
     "output_type": "stream",
     "text": [
      "1.1949052810668945\n"
     ]
    },
    {
     "data": {
      "text/plain": [
       "(0.9325, 0.935)"
      ]
     },
     "execution_count": 3,
     "metadata": {},
     "output_type": "execute_result"
    }
   ],
   "source": [
    "x,y = make_classification(n_samples=10000,n_features=200,random_state=42)\n",
    "x_train,x_test,y_train,y_test = train_test_split(x,y,test_size=0.2,random_state=42)\n",
    "\n",
    "gb_model = GradientBoostingClassifier(random_state=42)\n",
    "xgb_model = xgb.XGBClassifier(random_state=42,use_label_encoder=False,eval_metric='logloss')\n",
    "\n",
    "#taining and ecaluating sklearn gradient boosting algorithm \n",
    "start_gb = time.time()\n",
    "gb_model.fit(x_train,y_train)\n",
    "end_gb = time.time()\n",
    "print(-start_gb+end_gb)\n",
    "\n",
    "gb_predictions = gb_model.predict(x_test)\n",
    "gb_accuracy = accuracy_score(y_test,gb_predictions)\n",
    "\n",
    "start_xgb = time.time()\n",
    "xgb_model.fit(x_train,y_train)\n",
    "end_xgb = time.time()\n",
    "print(-start_xgb+end_xgb)\n",
    "\n",
    "xgb_predictions = xgb_model.predict(x_test)\n",
    "xgb_accuracy = accuracy_score(y_test,xgb_predictions)\n",
    "\n",
    "gb_accuracy,xgb_accuracy"
   ]
  }
 ],
 "metadata": {
  "kernelspec": {
   "display_name": "Python 3",
   "language": "python",
   "name": "python3"
  },
  "language_info": {
   "codemirror_mode": {
    "name": "ipython",
    "version": 3
   },
   "file_extension": ".py",
   "mimetype": "text/x-python",
   "name": "python",
   "nbconvert_exporter": "python",
   "pygments_lexer": "ipython3",
   "version": "3.13.2"
  }
 },
 "nbformat": 4,
 "nbformat_minor": 5
}
